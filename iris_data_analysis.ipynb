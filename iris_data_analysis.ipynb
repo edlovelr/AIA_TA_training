{
 "cells": [
  {
   "cell_type": "code",
   "execution_count": 8,
   "metadata": {
    "scrolled": true
   },
   "outputs": [
    {
     "name": "stdout",
     "output_type": "stream",
     "text": [
      "[['\\ufeffid' '花萼長度' '花萼寬度' '花瓣長度' '花瓣寬度' '屬種' 'type']\n",
      " ['1' '5.4' '3.7' '1.5' '0.2' 'Iris-setosa' '1']\n",
      " ['2' '4.8' '3.4' '1.6' '0.2' 'Iris-setosa' '1']\n",
      " ['3' '4.8' '3' '1.4' '0.1' 'Iris-setosa' '1']\n",
      " ['4' '4.3' '3' '1.1' '0.1' 'Iris-setosa' '1']\n",
      " ['5' '5.8' '4' '1.2' '0.2' 'Iris-setosa' '1']\n",
      " ['6' '5.7' '4.4' '1.5' '0.4' 'Iris-setosa' '1']\n",
      " ['7' '5.4' '3.9' '1.3' '0.4' 'Iris-setosa' '1']\n",
      " ['8' '5.1' '3.5' '1.4' '0.3' 'Iris-setosa' '1']\n",
      " ['9' '5.7' '3.8' '1.7' '0.3' 'Iris-setosa' '1']\n",
      " ['10' '5.1' '3.8' '1.5' '0.3' 'Iris-setosa' '1']\n",
      " ['11' '5.4' '3.4' '1.7' '0.2' 'Iris-setosa' '1']\n",
      " ['12' '5.1' '3.7' '1.5' '0.4' 'Iris-setosa' '1']\n",
      " ['13' '4.6' '3.6' '1' '0.2' 'Iris-setosa' '1']\n",
      " ['14' '5.1' '3.3' '1.7' '0.5' 'Iris-setosa' '1']\n",
      " ['15' '4.8' '3.4' '1.9' '0.2' 'Iris-setosa' '1']\n",
      " ['16' '5' '3' '1.6' '0.2' 'Iris-setosa' '1']\n",
      " ['17' '5' '3.4' '1.6' '0.4' 'Iris-setosa' '1']\n",
      " ['18' '5.2' '3.5' '1.5' '0.2' 'Iris-setosa' '1']\n",
      " ['19' '5.2' '3.4' '1.4' '0.2' 'Iris-setosa' '1']\n",
      " ['20' '4.7' '3.2' '1.6' '0.2' 'Iris-setosa' '1']\n",
      " ['21' '4.8' '3.1' '1.6' '0.2' 'Iris-setosa' '1']\n",
      " ['22' '5.4' '3.4' '1.5' '0.4' 'Iris-setosa' '1']\n",
      " ['23' '5.2' '4.1' '1.5' '0.1' 'Iris-setosa' '1']\n",
      " ['24' '5.5' '4.2' '1.4' '0.2' 'Iris-setosa' '1']\n",
      " ['25' '4.9' '3.1' '1.5' '0.1' 'Iris-setosa' '1']\n",
      " ['26' '5' '3.2' '1.2' '0.2' 'Iris-setosa' '1']\n",
      " ['27' '5.5' '3.5' '1.3' '0.2' 'Iris-setosa' '1']\n",
      " ['28' '4.9' '3.1' '1.5' '0.1' 'Iris-setosa' '1']\n",
      " ['29' '4.4' '3' '1.3' '0.2' 'Iris-setosa' '1']\n",
      " ['30' '5.1' '3.4' '1.5' '0.2' 'Iris-setosa' '1']\n",
      " ['31' '5' '3.5' '1.3' '0.3' 'Iris-setosa' '1']\n",
      " ['32' '4.5' '2.3' '1.3' '0.3' 'Iris-setosa' '1']\n",
      " ['33' '4.4' '3.2' '1.3' '0.2' 'Iris-setosa' '1']\n",
      " ['34' '5' '3.5' '1.6' '0.6' 'Iris-setosa' '1']\n",
      " ['35' '5.1' '3.8' '1.9' '0.4' 'Iris-setosa' '1']\n",
      " ['36' '4.8' '3' '1.4' '0.3' 'Iris-setosa' '1']\n",
      " ['37' '5.1' '3.8' '1.6' '0.2' 'Iris-setosa' '1']\n",
      " ['38' '4.6' '3.2' '1.4' '0.2' 'Iris-setosa' '1']\n",
      " ['39' '5.3' '3.7' '1.5' '0.2' 'Iris-setosa' '1']\n",
      " ['40' '5' '3.3' '1.4' '0.2' 'Iris-setosa' '1']\n",
      " ['41' '5' '2' '3.5' '1' 'Iris-versicolor' '2']\n",
      " ['42' '5.9' '3' '4.2' '1.5' 'Iris-versicolor' '2']\n",
      " ['43' '6' '2.2' '4' '1' 'Iris-versicolor' '2']\n",
      " ['44' '6.1' '2.9' '4.7' '1.4' 'Iris-versicolor' '2']\n",
      " ['45' '5.6' '2.9' '3.6' '1.3' 'Iris-versicolor' '2']\n",
      " ['46' '6.7' '3.1' '4.4' '1.4' 'Iris-versicolor' '2']\n",
      " ['47' '5.6' '3' '4.5' '1.5' 'Iris-versicolor' '2']\n",
      " ['48' '5.8' '2.7' '4.1' '1' 'Iris-versicolor' '2']\n",
      " ['49' '6.2' '2.2' '4.5' '1.5' 'Iris-versicolor' '2']\n",
      " ['50' '5.6' '2.5' '3.9' '1.1' 'Iris-versicolor' '2']\n",
      " ['51' '5.9' '3.2' '4.8' '1.8' 'Iris-versicolor' '2']\n",
      " ['52' '6.1' '2.8' '4' '1.3' 'Iris-versicolor' '2']\n",
      " ['53' '6.3' '2.5' '4.9' '1.5' 'Iris-versicolor' '2']\n",
      " ['54' '6.1' '2.8' '4.7' '1.2' 'Iris-versicolor' '2']\n",
      " ['55' '6.4' '2.9' '4.3' '1.3' 'Iris-versicolor' '2']\n",
      " ['56' '6.6' '3' '4.4' '1.4' 'Iris-versicolor' '2']\n",
      " ['57' '6.8' '2.8' '4.8' '1.4' 'Iris-versicolor' '2']\n",
      " ['58' '6.7' '3' '5' '1.7' 'Iris-versicolor' '2']\n",
      " ['59' '6' '2.9' '4.5' '1.5' 'Iris-versicolor' '2']\n",
      " ['60' '5.7' '2.6' '3.5' '1' 'Iris-versicolor' '2']\n",
      " ['61' '5.5' '2.4' '3.8' '1.1' 'Iris-versicolor' '2']\n",
      " ['62' '5.5' '2.4' '3.7' '1' 'Iris-versicolor' '2']\n",
      " ['63' '5.8' '2.7' '3.9' '1.2' 'Iris-versicolor' '2']\n",
      " ['64' '6' '2.7' '5.1' '1.6' 'Iris-versicolor' '2']\n",
      " ['65' '5.4' '3' '4.5' '1.5' 'Iris-versicolor' '2']\n",
      " ['66' '6' '3.4' '4.5' '1.6' 'Iris-versicolor' '2']\n",
      " ['67' '6.7' '3.1' '4.7' '1.5' 'Iris-versicolor' '2']\n",
      " ['68' '6.3' '2.3' '4.4' '1.3' 'Iris-versicolor' '2']\n",
      " ['69' '5.6' '3' '4.1' '1.3' 'Iris-versicolor' '2']\n",
      " ['70' '5.5' '2.5' '4' '1.3' 'Iris-versicolor' '2']\n",
      " ['71' '5.5' '2.6' '4.4' '1.2' 'Iris-versicolor' '2']\n",
      " ['72' '6.1' '3' '4.6' '1.4' 'Iris-versicolor' '2']\n",
      " ['73' '5.8' '2.6' '4' '1.2' 'Iris-versicolor' '2']\n",
      " ['74' '5' '2.3' '3.3' '1' 'Iris-versicolor' '2']\n",
      " ['75' '5.6' '2.7' '4.2' '1.3' 'Iris-versicolor' '2']\n",
      " ['76' '5.7' '3' '4.2' '1.2' 'Iris-versicolor' '2']\n",
      " ['77' '5.7' '2.9' '4.2' '1.3' 'Iris-versicolor' '2']\n",
      " ['78' '6.2' '2.9' '4.3' '1.3' 'Iris-versicolor' '2']\n",
      " ['79' '5.1' '2.5' '3' '1.1' 'Iris-versicolor' '2']\n",
      " ['80' '5.7' '2.8' '4.1' '1.3' 'Iris-versicolor' '2']\n",
      " ['81' '6.5' '3.2' '5.1' '2' 'Iris-virginica' '3']\n",
      " ['82' '6.4' '2.7' '5.3' '1.9' 'Iris-virginica' '3']\n",
      " ['83' '6.8' '3' '5.5' '2.1' 'Iris-virginica' '3']\n",
      " ['84' '5.7' '2.5' '5' '2' 'Iris-virginica' '3']\n",
      " ['85' '5.8' '2.8' '5.1' '2.4' 'Iris-virginica' '3']\n",
      " ['86' '6.4' '3.2' '5.3' '2.3' 'Iris-virginica' '3']\n",
      " ['87' '6.5' '3' '5.5' '1.8' 'Iris-virginica' '3']\n",
      " ['88' '7.7' '3.8' '6.7' '2.2' 'Iris-virginica' '3']\n",
      " ['89' '7.7' '2.6' '6.9' '2.3' 'Iris-virginica' '3']\n",
      " ['90' '6' '2.2' '5' '1.5' 'Iris-virginica' '3']\n",
      " ['91' '6.9' '3.2' '5.7' '2.3' 'Iris-virginica' '3']\n",
      " ['92' '5.6' '2.8' '4.9' '2' 'Iris-virginica' '3']\n",
      " ['93' '7.7' '2.8' '6.7' '2' 'Iris-virginica' '3']\n",
      " ['94' '6.3' '2.7' '4.9' '1.8' 'Iris-virginica' '3']\n",
      " ['95' '6.7' '3.3' '5.7' '2.1' 'Iris-virginica' '3']\n",
      " ['96' '7.2' '3.2' '6' '1.8' 'Iris-virginica' '3']\n",
      " ['97' '6.2' '2.8' '4.8' '1.8' 'Iris-virginica' '3']\n",
      " ['98' '6.1' '3' '4.9' '1.8' 'Iris-virginica' '3']\n",
      " ['99' '6.4' '2.8' '5.6' '2.1' 'Iris-virginica' '3']\n",
      " ['100' '7.2' '3' '5.8' '1.6' 'Iris-virginica' '3']\n",
      " ['101' '7.4' '2.8' '6.1' '1.9' 'Iris-virginica' '3']\n",
      " ['102' '7.9' '3.8' '6.4' '2' 'Iris-virginica' '3']\n",
      " ['103' '6.4' '2.8' '5.6' '2.2' 'Iris-virginica' '3']\n",
      " ['104' '6.3' '2.8' '5.1' '1.5' 'Iris-virginica' '3']\n",
      " ['105' '6.1' '2.6' '5.6' '1.4' 'Iris-virginica' '3']\n",
      " ['106' '7.7' '3' '6.1' '2.3' 'Iris-virginica' '3']\n",
      " ['107' '6.3' '3.4' '5.6' '2.4' 'Iris-virginica' '3']\n",
      " ['108' '6.4' '3.1' '5.5' '1.8' 'Iris-virginica' '3']\n",
      " ['109' '6' '3' '4.8' '1.8' 'Iris-virginica' '3']\n",
      " ['110' '6.9' '3.1' '5.4' '2.1' 'Iris-virginica' '3']\n",
      " ['111' '6.7' '3.1' '5.6' '2.4' 'Iris-virginica' '3']\n",
      " ['112' '6.9' '3.1' '5.1' '2.3' 'Iris-virginica' '3']\n",
      " ['113' '5.8' '2.7' '5.1' '1.9' 'Iris-virginica' '3']\n",
      " ['114' '6.8' '3.2' '5.9' '2.3' 'Iris-virginica' '3']\n",
      " ['115' '6.7' '3.3' '5.7' '2.5' 'Iris-virginica' '3']\n",
      " ['116' '6.7' '3' '5.2' '2.3' 'Iris-virginica' '3']\n",
      " ['117' '6.3' '2.5' '5' '1.9' 'Iris-virginica' '3']\n",
      " ['118' '6.5' '3' '5.2' '2' 'Iris-virginica' '3']\n",
      " ['119' '6.2' '3.4' '5.4' '2.3' 'Iris-virginica' '3']\n",
      " ['120' '5.9' '3' '5.1' '1.8' 'Iris-virginica' '3']\n",
      " ['121' '' '3' '4.9' '1.2' 'Iris-new_type' '4']\n",
      " ['122' '5.2' '' '5.1' '1.8' 'Iris-new_type' '4']\n",
      " ['123' '6.1' '3.2' '5.1' '1.8' 'Iris-new_type' '4']]\n"
     ]
    }
   ],
   "source": [
    "#load traindata and see what was in traindata\n",
    "import numpy as np\n",
    "#train = np.genfromtxt(\"train.csv\", encoding='UTF-8', delimiter=\",\")\n",
    "train = np.genfromtxt(\"train.csv\",dtype='str', encoding='UTF-8', delimiter=\",\")\n",
    "print(train)"
   ]
  },
  {
   "cell_type": "code",
   "execution_count": 9,
   "metadata": {},
   "outputs": [
    {
     "name": "stdout",
     "output_type": "stream",
     "text": [
      "[[5.4 3.7 1.5 0.2]\n",
      " [4.8 3.4 1.6 0.2]\n",
      " [4.8 3.  1.4 0.1]\n",
      " [4.3 3.  1.1 0.1]\n",
      " [5.8 4.  1.2 0.2]\n",
      " [5.7 4.4 1.5 0.4]\n",
      " [5.4 3.9 1.3 0.4]\n",
      " [5.1 3.5 1.4 0.3]\n",
      " [5.7 3.8 1.7 0.3]\n",
      " [5.1 3.8 1.5 0.3]\n",
      " [5.4 3.4 1.7 0.2]\n",
      " [5.1 3.7 1.5 0.4]\n",
      " [4.6 3.6 1.  0.2]\n",
      " [5.1 3.3 1.7 0.5]\n",
      " [4.8 3.4 1.9 0.2]\n",
      " [5.  3.  1.6 0.2]\n",
      " [5.  3.4 1.6 0.4]\n",
      " [5.2 3.5 1.5 0.2]\n",
      " [5.2 3.4 1.4 0.2]\n",
      " [4.7 3.2 1.6 0.2]\n",
      " [4.8 3.1 1.6 0.2]\n",
      " [5.4 3.4 1.5 0.4]\n",
      " [5.2 4.1 1.5 0.1]\n",
      " [5.5 4.2 1.4 0.2]\n",
      " [4.9 3.1 1.5 0.1]\n",
      " [5.  3.2 1.2 0.2]\n",
      " [5.5 3.5 1.3 0.2]\n",
      " [4.9 3.1 1.5 0.1]\n",
      " [4.4 3.  1.3 0.2]\n",
      " [5.1 3.4 1.5 0.2]\n",
      " [5.  3.5 1.3 0.3]\n",
      " [4.5 2.3 1.3 0.3]\n",
      " [4.4 3.2 1.3 0.2]\n",
      " [5.  3.5 1.6 0.6]\n",
      " [5.1 3.8 1.9 0.4]\n",
      " [4.8 3.  1.4 0.3]\n",
      " [5.1 3.8 1.6 0.2]\n",
      " [4.6 3.2 1.4 0.2]\n",
      " [5.3 3.7 1.5 0.2]\n",
      " [5.  3.3 1.4 0.2]\n",
      " [5.  2.  3.5 1. ]\n",
      " [5.9 3.  4.2 1.5]\n",
      " [6.  2.2 4.  1. ]\n",
      " [6.1 2.9 4.7 1.4]\n",
      " [5.6 2.9 3.6 1.3]\n",
      " [6.7 3.1 4.4 1.4]\n",
      " [5.6 3.  4.5 1.5]\n",
      " [5.8 2.7 4.1 1. ]\n",
      " [6.2 2.2 4.5 1.5]\n",
      " [5.6 2.5 3.9 1.1]\n",
      " [5.9 3.2 4.8 1.8]\n",
      " [6.1 2.8 4.  1.3]\n",
      " [6.3 2.5 4.9 1.5]\n",
      " [6.1 2.8 4.7 1.2]\n",
      " [6.4 2.9 4.3 1.3]\n",
      " [6.6 3.  4.4 1.4]\n",
      " [6.8 2.8 4.8 1.4]\n",
      " [6.7 3.  5.  1.7]\n",
      " [6.  2.9 4.5 1.5]\n",
      " [5.7 2.6 3.5 1. ]\n",
      " [5.5 2.4 3.8 1.1]\n",
      " [5.5 2.4 3.7 1. ]\n",
      " [5.8 2.7 3.9 1.2]\n",
      " [6.  2.7 5.1 1.6]\n",
      " [5.4 3.  4.5 1.5]\n",
      " [6.  3.4 4.5 1.6]\n",
      " [6.7 3.1 4.7 1.5]\n",
      " [6.3 2.3 4.4 1.3]\n",
      " [5.6 3.  4.1 1.3]\n",
      " [5.5 2.5 4.  1.3]\n",
      " [5.5 2.6 4.4 1.2]\n",
      " [6.1 3.  4.6 1.4]\n",
      " [5.8 2.6 4.  1.2]\n",
      " [5.  2.3 3.3 1. ]\n",
      " [5.6 2.7 4.2 1.3]\n",
      " [5.7 3.  4.2 1.2]\n",
      " [5.7 2.9 4.2 1.3]\n",
      " [6.2 2.9 4.3 1.3]\n",
      " [5.1 2.5 3.  1.1]\n",
      " [5.7 2.8 4.1 1.3]\n",
      " [6.5 3.2 5.1 2. ]\n",
      " [6.4 2.7 5.3 1.9]\n",
      " [6.8 3.  5.5 2.1]\n",
      " [5.7 2.5 5.  2. ]\n",
      " [5.8 2.8 5.1 2.4]\n",
      " [6.4 3.2 5.3 2.3]\n",
      " [6.5 3.  5.5 1.8]\n",
      " [7.7 3.8 6.7 2.2]\n",
      " [7.7 2.6 6.9 2.3]\n",
      " [6.  2.2 5.  1.5]\n",
      " [6.9 3.2 5.7 2.3]\n",
      " [5.6 2.8 4.9 2. ]\n",
      " [7.7 2.8 6.7 2. ]\n",
      " [6.3 2.7 4.9 1.8]\n",
      " [6.7 3.3 5.7 2.1]\n",
      " [7.2 3.2 6.  1.8]\n",
      " [6.2 2.8 4.8 1.8]\n",
      " [6.1 3.  4.9 1.8]\n",
      " [6.4 2.8 5.6 2.1]\n",
      " [7.2 3.  5.8 1.6]\n",
      " [7.4 2.8 6.1 1.9]\n",
      " [7.9 3.8 6.4 2. ]\n",
      " [6.4 2.8 5.6 2.2]\n",
      " [6.3 2.8 5.1 1.5]\n",
      " [6.1 2.6 5.6 1.4]\n",
      " [7.7 3.  6.1 2.3]\n",
      " [6.3 3.4 5.6 2.4]\n",
      " [6.4 3.1 5.5 1.8]\n",
      " [6.  3.  4.8 1.8]\n",
      " [6.9 3.1 5.4 2.1]\n",
      " [6.7 3.1 5.6 2.4]\n",
      " [6.9 3.1 5.1 2.3]\n",
      " [5.8 2.7 5.1 1.9]\n",
      " [6.8 3.2 5.9 2.3]\n",
      " [6.7 3.3 5.7 2.5]\n",
      " [6.7 3.  5.2 2.3]\n",
      " [6.3 2.5 5.  1.9]\n",
      " [6.5 3.  5.2 2. ]\n",
      " [6.2 3.4 5.4 2.3]\n",
      " [5.9 3.  5.1 1.8]\n",
      " [nan 3.  4.9 1.2]\n",
      " [5.2 nan 5.1 1.8]\n",
      " [6.1 3.2 5.1 1.8]]\n",
      "[1. 1. 1. 1. 1. 1. 1. 1. 1. 1. 1. 1. 1. 1. 1. 1. 1. 1. 1. 1. 1. 1. 1. 1.\n",
      " 1. 1. 1. 1. 1. 1. 1. 1. 1. 1. 1. 1. 1. 1. 1. 1. 2. 2. 2. 2. 2. 2. 2. 2.\n",
      " 2. 2. 2. 2. 2. 2. 2. 2. 2. 2. 2. 2. 2. 2. 2. 2. 2. 2. 2. 2. 2. 2. 2. 2.\n",
      " 2. 2. 2. 2. 2. 2. 2. 2. 3. 3. 3. 3. 3. 3. 3. 3. 3. 3. 3. 3. 3. 3. 3. 3.\n",
      " 3. 3. 3. 3. 3. 3. 3. 3. 3. 3. 3. 3. 3. 3. 3. 3. 3. 3. 3. 3. 3. 3. 3. 3.\n",
      " 4. 4. 4.]\n"
     ]
    }
   ],
   "source": [
    "#due to 'train', we know the features is '花萼長度' '花萼寬度' '花瓣長度' '花瓣寬度'\n",
    "#                              labels is 'type'\n",
    "#so now we're going to data clearn, \n",
    "#features we need is from row 1 to end,column 1 to 5\n",
    "train = np.genfromtxt(\"train.csv\", encoding='UTF-8', delimiter=\",\")\n",
    "train_data = np.array(train[1:,1:5].astype(np.float))\n",
    "#label if from row 1 to end, column 6\n",
    "train_label = train[1:,6].astype(np.float)\n",
    "print(train_data)\n",
    "print(train_label)"
   ]
  },
  {
   "cell_type": "code",
   "execution_count": 10,
   "metadata": {},
   "outputs": [
    {
     "name": "stdout",
     "output_type": "stream",
     "text": [
      "num of train_data:123\n",
      "num of feature:4\n",
      "num of labels:4\n"
     ]
    }
   ],
   "source": [
    "#information of traindata\n",
    "print('num of train_data:%d'%train_data.shape[0])\n",
    "print('num of feature:%d'%train_data.shape[1])\n",
    "print('num of labels:%d'%train_label[-1])"
   ]
  },
  {
   "cell_type": "code",
   "execution_count": 11,
   "metadata": {},
   "outputs": [
    {
     "name": "stdout",
     "output_type": "stream",
     "text": [
      "[[5.1 3.5 1.4 0.2]\n",
      " [4.9 3.  1.4 0.2]\n",
      " [4.7 3.2 1.3 0.2]\n",
      " [4.6 3.1 1.5 0.2]\n",
      " [5.  3.6 1.4 0.2]\n",
      " [5.4 3.9 1.7 0.4]\n",
      " [4.6 3.4 1.4 0.3]\n",
      " [5.  3.4 1.5 0.2]\n",
      " [4.4 2.9 1.4 0.2]\n",
      " [4.9 3.1 1.5 0.1]\n",
      " [7.  3.2 4.7 1.4]\n",
      " [6.4 3.2 4.5 1.5]\n",
      " [6.9 3.1 4.9 1.5]\n",
      " [5.5 2.3 4.  1.3]\n",
      " [6.5 2.8 4.6 1.5]\n",
      " [5.7 2.8 4.5 1.3]\n",
      " [6.3 3.3 4.7 1.6]\n",
      " [4.9 2.4 3.3 1. ]\n",
      " [6.6 2.9 4.6 1.3]\n",
      " [5.2 2.7 3.9 1.4]\n",
      " [6.3 3.3 6.  2.5]\n",
      " [5.8 2.7 5.1 1.9]\n",
      " [7.1 3.  5.9 2.1]\n",
      " [6.3 2.9 5.6 1.8]\n",
      " [6.5 3.  5.8 2.2]\n",
      " [7.6 3.  6.6 2.1]\n",
      " [4.9 2.5 4.5 1.7]\n",
      " [7.3 2.9 6.3 1.8]\n",
      " [6.7 2.5 5.8 1.8]\n",
      " [7.2 3.6 6.1 2.5]]\n",
      "num of test_data:123\n"
     ]
    }
   ],
   "source": [
    "#load test_data, clearn, information like above steps\n",
    "test = np.genfromtxt(\"test.csv\", encoding='UTF-8', delimiter=\",\")\n",
    "test_data = np.array(test[1:,1:].astype(np.float))\n",
    "print(test_data)\n",
    "print('num of test_data:%d'%train_data.shape[0])"
   ]
  },
  {
   "cell_type": "code",
   "execution_count": 12,
   "metadata": {},
   "outputs": [],
   "source": [
    "#form print(train_data), there're some 'nan' value in array\n",
    "#check 'nan' value, and set to 0\n",
    "train_data[np.isnan(train_data)]=0\n",
    "test_data[np.isnan(test_data)]=0"
   ]
  },
  {
   "cell_type": "code",
   "execution_count": 13,
   "metadata": {},
   "outputs": [],
   "source": [
    "#build svc model\n",
    "from sklearn.svm import SVC\n",
    "model=SVC()"
   ]
  },
  {
   "cell_type": "code",
   "execution_count": 14,
   "metadata": {},
   "outputs": [
    {
     "name": "stdout",
     "output_type": "stream",
     "text": [
      "accuracy :0.96\n"
     ]
    }
   ],
   "source": [
    "#split train_data, 0.8 for train and 0.2 for test\n",
    "#accuracy = 0.96, show this model well done\n",
    "from sklearn.model_selection import train_test_split\n",
    "x_train, x_test, y_train, y_test =train_test_split(train_data, train_label, test_size= 0.2, random_state= 42, shuffle= True)\n",
    "model.fit(x_train, y_train)\n",
    "print('accuracy :%.2f'%model.score(x_test, y_test))"
   ]
  },
  {
   "cell_type": "code",
   "execution_count": 15,
   "metadata": {},
   "outputs": [
    {
     "name": "stdout",
     "output_type": "stream",
     "text": [
      "Actual\n",
      "[1. 2. 2. 3. 1. 2. 2. 3. 1. 2. 2. 2. 1. 3. 3. 1. 2. 2. 3. 1. 1. 2. 2. 3.\n",
      " 1.]\n",
      "Prediction\n",
      "[1. 2. 2. 3. 1. 2. 2. 3. 1. 2. 2. 2. 1. 3. 3. 1. 2. 2. 3. 1. 1. 2. 2. 2.\n",
      " 1.]\n",
      "confusion_matrix\n",
      "[[ 8  0  0]\n",
      " [ 0 11  0]\n",
      " [ 0  1  5]]\n"
     ]
    }
   ],
   "source": [
    "#confusion_matrix see there is aactual label 3, but predict to 2 \n",
    "from sklearn import metrics\n",
    "print('Actual')\n",
    "print(y_test)\n",
    "print('Prediction')\n",
    "print(model.predict(x_test))\n",
    "print('confusion_matrix')\n",
    "print(metrics.confusion_matrix(y_test, model.predict(x_test)))"
   ]
  },
  {
   "cell_type": "code",
   "execution_count": 16,
   "metadata": {},
   "outputs": [
    {
     "data": {
      "text/plain": [
       "<matplotlib.figure.Figure at 0x1f54a50e0b8>"
      ]
     },
     "metadata": {},
     "output_type": "display_data"
    }
   ],
   "source": [
    "#show Actual(x_test,y_test) v.s Prediction(x_test,prediction)\n",
    "#'sepal length' and 'sepal width' phase\n",
    "import matplotlib.pyplot as plt\n",
    "plt.subplot(121)\n",
    "plt.scatter(x_test[:, 0], x_test[:,1], c=y_test)\n",
    "plt.title('Actual')\n",
    "plt.xlabel('sepal length')\n",
    "plt.ylabel('sepal width')\n",
    "plt.subplot(122)\n",
    "plt.scatter(x_test[:, 0], x_test[:,1], c=model.predict(x_test))\n",
    "plt.title('Prediction')\n",
    "plt.xlabel('sepal length')\n",
    "plt.ylabel('sepal width')\n",
    "plt.show()"
   ]
  },
  {
   "cell_type": "code",
   "execution_count": 17,
   "metadata": {},
   "outputs": [
    {
     "name": "stdout",
     "output_type": "stream",
     "text": [
      "[1. 1. 1. 1. 1. 1. 1. 1. 1. 1. 2. 2. 2. 2. 2. 2. 2. 2. 2. 2. 3. 3. 3. 3.\n",
      " 3. 3. 2. 3. 3. 3.]\n"
     ]
    }
   ],
   "source": [
    "#training with train data\n",
    "#predict test_data\n",
    "model.fit(train_data, train_label)\n",
    "prediction = model.predict(test_data)\n",
    "print(prediction)"
   ]
  },
  {
   "attachments": {
    "kaggle_hw1.PNG": {
     "image/png": "[encoded data removed]"
    }
   },
   "cell_type": "markdown",
   "metadata": {},
   "source": [
    "![kaggle_hw1.PNG](attachment:kaggle_hw1.PNG)"
   ]
  },
  {
   "cell_type": "code",
   "execution_count": 18,
   "metadata": {},
   "outputs": [
    {
     "name": "stdout",
     "output_type": "stream",
     "text": [
      "[ 1  2  3  4  5  6  7  8  9 10 11 12 13 14 15 16 17 18 19 20 21 22 23 24\n",
      " 25 26 27 28 29 30]\n",
      "[1. 1. 1. 1. 1. 1. 1. 1. 1. 1. 2. 2. 2. 2. 2. 2. 2. 2. 2. 2. 3. 3. 3. 3.\n",
      " 3. 3. 2. 3. 3. 3.]\n"
     ]
    }
   ],
   "source": [
    "#save result to csv file\n",
    "result=[]\n",
    "index=[]\n",
    "for i in range(len(prediction)):\n",
    "    index.append(i+1)\n",
    "    result.append(prediction[i])\n",
    "index=np.array(index)\n",
    "result=np.array(result)\n",
    "print(index)\n",
    "print(result)\n",
    "np.savetxt('result.csv', np.column_stack((index,result)), fmt='%d', delimiter = ',',header=('id,type'),comments='')"
   ]
  }
 ],
 "metadata": {
  "kernelspec": {
   "display_name": "Python 3",
   "language": "python",
   "name": "python3"
  },
  "language_info": {
   "codemirror_mode": {
    "name": "ipython",
    "version": 3
   },
   "file_extension": ".py",
   "mimetype": "text/x-python",
   "name": "python",
   "nbconvert_exporter": "python",
   "pygments_lexer": "ipython3",
   "version": "3.6.2"
  }
 },
 "nbformat": 4,
 "nbformat_minor": 2
}
