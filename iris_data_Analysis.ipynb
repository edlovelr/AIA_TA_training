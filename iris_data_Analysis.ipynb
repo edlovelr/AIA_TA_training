{
 "cells": [
  {
   "cell_type": "code",
   "execution_count": 226,
   "metadata": {},
   "outputs": [
    {
     "name": "stdout",
     "output_type": "stream",
     "text": [
      "num of train_data:123\n",
      "num of feature:4\n",
      "num of labels:4\n"
     ]
    }
   ],
   "source": [
    "#load train_data,train_label\n",
    "import numpy as np\n",
    "train = np.genfromtxt(\"train.csv\", encoding='UTF-8', delimiter=\",\")\n",
    "train_data = np.array(train[1:,1:-2].astype(np.float))\n",
    "train_label = train[1:,6].astype(np.float)\n",
    "print('num of train_data:%d'%train_data.shape[0])\n",
    "print('num of feature:%d'%train_data.shape[1])\n",
    "print('num of labels:%d'%train_label[-1])"
   ]
  },
  {
   "cell_type": "code",
   "execution_count": 227,
   "metadata": {},
   "outputs": [
    {
     "name": "stdout",
     "output_type": "stream",
     "text": [
      "num of test_data:123\n"
     ]
    }
   ],
   "source": [
    "#load test_data\n",
    "test =np.genfromtxt(\"test.csv\", encoding='UTF-8', delimiter=\",\")\n",
    "test_data = np.array(test[1:,1:].astype(np.float))\n",
    "print('num of test_data:%d'%train_data.shape[0])"
   ]
  },
  {
   "cell_type": "code",
   "execution_count": 228,
   "metadata": {},
   "outputs": [],
   "source": [
    "#check nan value\n",
    "train_data[np.isnan(train_data)]=0\n",
    "test_data[np.isnan(test_data)]=0"
   ]
  },
  {
   "cell_type": "code",
   "execution_count": 232,
   "metadata": {},
   "outputs": [
    {
     "name": "stdout",
     "output_type": "stream",
     "text": [
      "accuracy :0.98\n"
     ]
    }
   ],
   "source": [
    "#build svc model\n",
    "from sklearn.svm import SVC\n",
    "model=SVC()\n",
    "model.fit(train_data, train_label)\n",
    "print('accuracy :%.2f'%model.score(train_data, train_label))"
   ]
  },
  {
   "cell_type": "code",
   "execution_count": 233,
   "metadata": {},
   "outputs": [
    {
     "name": "stdout",
     "output_type": "stream",
     "text": [
      "training_confusion_matrix\n",
      "[[40  0  0  0]\n",
      " [ 0 38  2  0]\n",
      " [ 0  0 40  0]\n",
      " [ 0  0  1  2]]\n"
     ]
    }
   ],
   "source": [
    "#confusion_matrix of training\n",
    "from sklearn import metrics\n",
    "print('training_confusion_matrix')\n",
    "print(metrics.confusion_matrix(train_label, model.predict(train_data)))"
   ]
  },
  {
   "cell_type": "code",
   "execution_count": 235,
   "metadata": {},
   "outputs": [
    {
     "name": "stdout",
     "output_type": "stream",
     "text": [
      "             precision    recall  f1-score   support\n",
      "\n",
      "        1.0       1.00      1.00      1.00        40\n",
      "        2.0       1.00      0.95      0.97        40\n",
      "        3.0       0.93      1.00      0.96        40\n",
      "        4.0       1.00      0.67      0.80         3\n",
      "\n",
      "avg / total       0.98      0.98      0.98       123\n",
      "\n"
     ]
    }
   ],
   "source": [
    "# precision recall f1-score\n",
    "print((metrics.classification_report(train_label,model.predict(train_data))))"
   ]
  },
  {
   "cell_type": "code",
   "execution_count": 236,
   "metadata": {},
   "outputs": [
    {
     "name": "stdout",
     "output_type": "stream",
     "text": [
      "[1. 1. 1. 1. 1. 1. 1. 1. 1. 1. 2. 2. 2. 2. 2. 2. 2. 2. 2. 2. 3. 3. 3. 3.\n",
      " 3. 3. 2. 3. 3. 3.]\n"
     ]
    }
   ],
   "source": [
    "#predict test_data\n",
    "prediction = model.predict(test_data)\n",
    "print(prediction)"
   ]
  },
  {
   "cell_type": "code",
   "execution_count": 237,
   "metadata": {},
   "outputs": [
    {
     "name": "stdout",
     "output_type": "stream",
     "text": [
      "[ 1  2  3  4  5  6  7  8  9 10 11 12 13 14 15 16 17 18 19 20 21 22 23 24\n",
      " 25 26 27 28 29 30]\n",
      "[1. 1. 1. 1. 1. 1. 1. 1. 1. 1. 2. 2. 2. 2. 2. 2. 2. 2. 2. 2. 3. 3. 3. 3.\n",
      " 3. 3. 2. 3. 3. 3.]\n"
     ]
    }
   ],
   "source": [
    "#save to csv file\n",
    "result=[]\n",
    "index=[]\n",
    "for i in range(len(prediction)):\n",
    "    index.append(i+1)\n",
    "    result.append(prediction[i])\n",
    "index=np.array(index)\n",
    "result=np.array(result)\n",
    "print(index)\n",
    "print(result)\n",
    "np.savetxt('result.csv', np.column_stack((index,result)), fmt='%d', delimiter = ',',header=('id,type'),comments='')"
   ]
  },
  {
   "cell_type": "code",
   "execution_count": 238,
   "metadata": {},
   "outputs": [
    {
     "name": "stdout",
     "output_type": "stream",
     "text": [
      "[[10  0  0]\n",
      " [ 0 11  0]\n",
      " [ 0  0  9]]\n"
     ]
    }
   ],
   "source": [
    "#kagle accuracy =1\n",
    "solution = np.array([1, 1, 1, 1, 1, 1, 1, 1, 1, 1, 2, 2, 2, 2, 2, 2, 2, 2, 2, 2, 3, 3, 3, 3, 3, 3, 2, 3, 3, 3])\n",
    "print(metrics.confusion_matrix(solution, prediction))"
   ]
  }
 ],
 "metadata": {
  "kernelspec": {
   "display_name": "Python 3",
   "language": "python",
   "name": "python3"
  },
  "language_info": {
   "codemirror_mode": {
    "name": "ipython",
    "version": 3
   },
   "file_extension": ".py",
   "mimetype": "text/x-python",
   "name": "python",
   "nbconvert_exporter": "python",
   "pygments_lexer": "ipython3",
   "version": "3.6.2"
  }
 },
 "nbformat": 4,
 "nbformat_minor": 2
}
