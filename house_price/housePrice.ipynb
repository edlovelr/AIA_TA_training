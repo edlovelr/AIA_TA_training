{
 "cells": [
  {
   "cell_type": "markdown",
   "metadata": {},
   "source": [
    "<font color=#000000 size=5 face=\"微軟正黑體\">Load traindata and print content in traindata. </font>"
   ]
  },
  {
   "cell_type": "code",
   "execution_count": 1,
   "metadata": {},
   "outputs": [
    {
     "data": {
      "text/plain": [
       "array([['Id', 'MSSubClass', 'MSZoning', ..., 'SaleType', 'SaleCondition',\n",
       "        'SalePrice'],\n",
       "       ['1', '60', 'RL', ..., 'WD', 'Normal', '208500'],\n",
       "       ['2', '20', 'RL', ..., 'WD', 'Normal', '181500'],\n",
       "       ...,\n",
       "       ['1458', '70', 'RL', ..., 'WD', 'Normal', '266500'],\n",
       "       ['1459', '20', 'RL', ..., 'WD', 'Normal', '142125'],\n",
       "       ['1460', '20', 'RL', ..., 'WD', 'Normal', '147500']], dtype='<U13')"
      ]
     },
     "execution_count": 1,
     "metadata": {},
     "output_type": "execute_result"
    }
   ],
   "source": [
    "import numpy as np\n",
    "train = np.genfromtxt(\"train.csv\",dtype='str', encoding='UTF-8', delimiter=\",\")\n",
    "train"
   ]
  },
  {
   "cell_type": "markdown",
   "metadata": {},
   "source": [
    "<font color=#000000 size=5 face=\"微軟正黑體\">Take head and feature from train </font>"
   ]
  },
  {
   "cell_type": "code",
   "execution_count": 2,
   "metadata": {},
   "outputs": [],
   "source": [
    "head = train[:1,1:-1]\n",
    "train_data = np.array(train[1:,1:-1])\n",
    "priece = train[1:,-1:].astype(np.float)"
   ]
  },
  {
   "cell_type": "markdown",
   "metadata": {},
   "source": [
    "<font color=#000000 size=5 face=\"微軟正黑體\">Information of train_data </font>"
   ]
  },
  {
   "cell_type": "code",
   "execution_count": 3,
   "metadata": {},
   "outputs": [
    {
     "name": "stdout",
     "output_type": "stream",
     "text": [
      "num of train_data:1460\n",
      "num of feature:79\n"
     ]
    }
   ],
   "source": [
    "print('num of train_data:%d'%train_data.shape[0])\n",
    "print('num of feature:%d'%train_data.shape[1])"
   ]
  },
  {
   "cell_type": "markdown",
   "metadata": {},
   "source": [
    "<font color=#000000 size=5 face=\"微軟正黑體\">Information of test_data </font>"
   ]
  },
  {
   "cell_type": "code",
   "execution_count": 4,
   "metadata": {},
   "outputs": [
    {
     "name": "stdout",
     "output_type": "stream",
     "text": [
      "num of train_data:1459\n",
      "num of feature:79\n"
     ]
    }
   ],
   "source": [
    "test = np.genfromtxt(\"test.csv\",dtype='str', encoding='UTF-8', delimiter=\",\")\n",
    "test_head = test[:1,1:]\n",
    "test_data = np.array(test[1:,1:])\n",
    "print('num of train_data:%d'%test_data.shape[0])\n",
    "print('num of feature:%d'%test_data.shape[1])"
   ]
  },
  {
   "cell_type": "markdown",
   "metadata": {},
   "source": [
    "<font color=#000000 size=7 face=\"微軟正黑體\">Data preprocessing</font>  \n",
    "<br>\n",
    "<font color=#000000 size=5 face=\"微軟正黑體\">Merge train and test to confirm that the normalize mode is consistent.</font>\n",
    "<br>\n",
    "<font color=#000000 size=5 face=\"微軟正黑體\">Set NA vlaue to 0, </font>\n"
   ]
  },
  {
   "cell_type": "code",
   "execution_count": 5,
   "metadata": {},
   "outputs": [
    {
     "name": "stdout",
     "output_type": "stream",
     "text": [
      "(2919, 79)\n"
     ]
    }
   ],
   "source": [
    "feature = np.vstack((train_data,test_data))# train_data:0-1459, test_data:1459-2918\n",
    "for i in range(len(feature)):\n",
    "    for j in range (len(feature[i])):\n",
    "        if feature[i,j]=='NA':\n",
    "            feature[i,j]= '0'\n",
    "head_transpose = np.transpose(head)\n",
    "feature_transpose= np.transpose(feature)\n",
    "print(feature.shape)"
   ]
  },
  {
   "cell_type": "markdown",
   "metadata": {},
   "source": [
    "<font color=#000000 size=5 face=\"微軟正黑體\">One hot encoding </font>"
   ]
  },
  {
   "cell_type": "code",
   "execution_count": 6,
   "metadata": {},
   "outputs": [
    {
     "data": {
      "text/plain": [
       "array([[ 60.,   4.,  65., ...,   2.,   9.,   4.],\n",
       "       [ 20.,   4.,  80., ...,   1.,   9.,   4.],\n",
       "       [ 60.,   4.,  68., ...,   2.,   9.,   4.],\n",
       "       ...,\n",
       "       [ 20.,   4., 160., ...,   0.,   9.,   0.],\n",
       "       [ 85.,   4.,  62., ...,   0.,   9.,   4.],\n",
       "       [ 60.,   4.,  74., ...,   0.,   9.,   4.]])"
      ]
     },
     "execution_count": 6,
     "metadata": {},
     "output_type": "execute_result"
    }
   ],
   "source": [
    "from sklearn.preprocessing import LabelEncoder\n",
    "list=[]\n",
    "data_normalize = np.zeros((0,2919))\n",
    "one_hot_encoding=LabelEncoder()\n",
    "\n",
    "for i in range(len(head_transpose)):\n",
    "    if (head_transpose[i]=='MSZoning'or head_transpose[i]=='Street'or head_transpose[i]=='Alley'\n",
    "        or head_transpose[i]=='LotShape'or head_transpose[i]=='LandContour'or head_transpose[i]=='Utilities'\n",
    "        or head_transpose[i]=='LotConfig'or head_transpose[i]=='LandSlope'or head_transpose[i]=='Neighborhood'\n",
    "        or head_transpose[i]=='Condition1'or head_transpose[i]=='Condition2'or head_transpose[i]=='BldgType'\n",
    "        or head_transpose[i]=='HouseStyle'or head_transpose[i]=='RoofStyle'or head_transpose[i]=='RoofMatl'\n",
    "        or head_transpose[i]=='Exterior1st'or head_transpose[i]=='Exterior2nd'or head_transpose[i]=='MasVnrType'\n",
    "        or head_transpose[i]=='ExterQual'or head_transpose[i]=='ExterCond'or head_transpose[i]=='Foundation'\n",
    "        or head_transpose[i]=='BsmtQual'or head_transpose[i]=='BsmtCond'or head_transpose[i]=='BsmtExposure'\n",
    "        or head_transpose[i]=='BsmtFinType1'or head_transpose[i]=='BsmtFinType2'or head_transpose[i]=='Heating'\n",
    "        or head_transpose[i]=='HeatingQC'or head_transpose[i]=='CentralAir'or head_transpose[i]=='Electrical'\n",
    "        or head_transpose[i]=='KitchenQual'or head_transpose[i]=='Functional'or head_transpose[i]=='FireplaceQu'\n",
    "        or head_transpose[i]=='GarageType'or head_transpose[i]=='GarageFinish'or head_transpose[i]=='GarageQual'\n",
    "        or head_transpose[i]=='GarageCond'or head_transpose[i]=='PavedDrive'or head_transpose[i]=='PoolQC'\n",
    "        or head_transpose[i]=='Fence'or head_transpose[i]=='MiscFeature'or head_transpose[i]=='SaleType'\n",
    "        or head_transpose[i]=='SaleCondition'or head_transpose[i]=='GarageYrBlt'or head_transpose[i]=='YrSold'\n",
    "        or head_transpose[i]=='YearBuilt'or head_transpose[i]=='YearRemodAdd'or head_transpose[i]=='YearRemodAdd'):\n",
    "        one_hot_encoding.fit(feature_transpose[i])\n",
    "        list.append(one_hot_encoding.transform(feature_transpose[i]))\n",
    "    else:\n",
    "        list.append(feature_transpose[i])\n",
    "\n",
    "for i in range(len(list)):\n",
    "    data_normalize = np.vstack((data_normalize,list[i]))\n",
    "data_normalize = np.transpose(data_normalize)\n",
    "data_normalize.astype(np.float)"
   ]
  },
  {
   "cell_type": "markdown",
   "metadata": {},
   "source": [
    "<font color=#000000 size=5 face=\"微軟正黑體\">Minmax scale,bound the value in range[0,1]</font>"
   ]
  },
  {
   "cell_type": "code",
   "execution_count": 7,
   "metadata": {},
   "outputs": [
    {
     "name": "stderr",
     "output_type": "stream",
     "text": [
      "c:\\users\\boin\\appdata\\local\\programs\\python\\python36\\lib\\site-packages\\sklearn\\utils\\validation.py:475: DataConversionWarning: Data with input dtype <U32 was converted to float64.\n",
      "  warnings.warn(msg, DataConversionWarning)\n"
     ]
    }
   ],
   "source": [
    "from sklearn import preprocessing\n",
    "data_normalize = preprocessing.minmax_scale(data_normalize)"
   ]
  },
  {
   "cell_type": "markdown",
   "metadata": {},
   "source": [
    "<font color=#000000 size=5 face=\"微軟正黑體\">Dimension Reduction by PCA</font>"
   ]
  },
  {
   "cell_type": "code",
   "execution_count": 8,
   "metadata": {},
   "outputs": [
    {
     "name": "stdout",
     "output_type": "stream",
     "text": [
      "(2919, 79)\n"
     ]
    }
   ],
   "source": [
    "from sklearn.decomposition import PCA\n",
    "pca = PCA()\n",
    "data_reduct = pca.fit_transform(data_normalize)\n",
    "print(data_reduct.shape)"
   ]
  },
  {
   "cell_type": "markdown",
   "metadata": {},
   "source": [
    "<font color=#000000 size=5 face=\"微軟正黑體\">Split train_data,test_data from normalized data</font>"
   ]
  },
  {
   "cell_type": "code",
   "execution_count": 9,
   "metadata": {},
   "outputs": [
    {
     "name": "stdout",
     "output_type": "stream",
     "text": [
      "(1460, 79)\n",
      "(1459, 79)\n"
     ]
    }
   ],
   "source": [
    "#split train_data,test_data\n",
    "train_feature = data_reduct[:1460]\n",
    "test_feature = data_reduct[1460:]\n",
    "print(train_feature.shape)\n",
    "print(test_feature.shape)"
   ]
  },
  {
   "cell_type": "markdown",
   "metadata": {},
   "source": [
    "<font color=#000000 size=5 face=\"微軟正黑體\">Split train_data, 80% for train and 20% for test</font>"
   ]
  },
  {
   "cell_type": "code",
   "execution_count": 10,
   "metadata": {},
   "outputs": [],
   "source": [
    "from sklearn.model_selection import train_test_split\n",
    "x_train, x_test, y_train, y_test =train_test_split(train_feature,\n",
    "        priece, test_size= 0.2, random_state= 42, shuffle= True)"
   ]
  },
  {
   "cell_type": "markdown",
   "metadata": {},
   "source": [
    "<font color=#000000 size=5 face=\"微軟正黑體\">Lasso Regression</font>"
   ]
  },
  {
   "cell_type": "code",
   "execution_count": 11,
   "metadata": {},
   "outputs": [
    {
     "data": {
      "text/plain": [
       "Lasso(alpha=0.1, copy_X=True, fit_intercept=True, max_iter=1000,\n",
       "   normalize=False, positive=False, precompute=False, random_state=None,\n",
       "   selection='cyclic', tol=0.0001, warm_start=False)"
      ]
     },
     "execution_count": 11,
     "metadata": {},
     "output_type": "execute_result"
    }
   ],
   "source": [
    "from sklearn.linear_model import Lasso\n",
    "laso = Lasso(alpha=0.1)\n",
    "laso.fit(x_train,y_train)"
   ]
  },
  {
   "cell_type": "markdown",
   "metadata": {},
   "source": [
    "<font color=#000000 size=5 face=\"微軟正黑體\">Prediction</font>"
   ]
  },
  {
   "cell_type": "code",
   "execution_count": 12,
   "metadata": {},
   "outputs": [
    {
     "name": "stdout",
     "output_type": "stream",
     "text": [
      "[ 150142  326496  107629  172038  318471   75541  229026  136593   74135\n",
      "  157213  141868  106329   91751  206635  162934  136756  206863  124063\n",
      "  113629  229698  133476  207867  185216  120663  211749  160237  202273\n",
      "   82397  167999  195599  162010  262684  207610  101150  260956  152443\n",
      "  123128  212419  287471   94404  103467  251059  106901  329687  128901\n",
      "  155126   93472  132343  399569  132824  112261  222270  105443  335896\n",
      "  159493  248442  212105  169675  124657  102401   17347  164404  299391\n",
      "  265440  284404  203012  103280  313715  107812  179458  111021  119637\n",
      "   95798   60296  437212  184510  282639  290413  135929  113819  126477\n",
      "   53977  117447  110886  158630  132305  264463  206167  148722  197551\n",
      "  139168  122237  122624  269882  117517  187441  189594  189310  213593\n",
      "  282211  188735  217540  308769  128632  197464  179050  163829  246174\n",
      "  132079  231796   32650  125291  141668  131129  221143  118817   99485\n",
      "  110139  143999  273870  132662  155625  176982  178139  193561  130039\n",
      "  235700   81982  143428  194826  189512  331118  194199  111943   38662\n",
      "  352153  354120  131448  247626  533456  313733  122218  195802  160423\n",
      "  128100  118036  234902  194473  115262   45756  115455  145725  178418\n",
      "  170311   55773  120298  140131  131955   79240  131954  218733  126606\n",
      "  291355  160291  107151  118979  279579  333719  383990  215757  348335\n",
      "   89701   86663  156991  294094  107658  114816  228860  118851  171081\n",
      "  165052  111290  121298  146851  248074  170050  277227  227219  202060\n",
      "   73863  110269   97891  128378 -156971  210198  202694  208004   75911\n",
      "  212877  124897  265613  180329  103107  291506  201285  114347  237851\n",
      "  132274  143833   94856  251177  147536  118664  168971  223719  259180\n",
      "  213825  134688   86527  140822  142429  215396  207721   82863  231771\n",
      "  153571   90999   84037  179414  102765   98155  176785  111587  123616\n",
      "  237156  140046  202572  172110  258875  110824  114915  294725  238132\n",
      "  392569  205238  124591  161425  178944  143925   78990  183698  184120\n",
      "  130081  106890  151321  134797  118980  111858  185089  255487  290887\n",
      "  192010  113744  253356  344216  238843  180064  153403  125790  169779\n",
      "  348965  206314  233086   69357   90926  137209  162528  301035  261470\n",
      "  136759  219368  108045  195745  125276  298805  189302  211198  137990\n",
      "  274652  207107  119699  104645]\n"
     ]
    }
   ],
   "source": [
    "print(laso.predict(x_test).astype(np.int))"
   ]
  },
  {
   "cell_type": "markdown",
   "metadata": {},
   "source": [
    "<font color=#000000 size=5 face=\"微軟正黑體\">Visualization</font>"
   ]
  },
  {
   "cell_type": "code",
   "execution_count": 14,
   "metadata": {},
   "outputs": [
    {
     "data": {
      "text/plain": [
       "[<matplotlib.lines.Line2D at 0x25d45e22d30>]"
      ]
     },
     "execution_count": 14,
     "metadata": {},
     "output_type": "execute_result"
    },
    {
     "data": {
      "image/png": "[encoded data removed]",
      "text/plain": [
       "<matplotlib.figure.Figure at 0x25d45b78c18>"
      ]
     },
     "metadata": {},
     "output_type": "display_data"
    }
   ],
   "source": [
    "import matplotlib.pyplot as plt\n",
    "plt.subplot(221)\n",
    "plt.title('Actural(y_test)')\n",
    "plt.plot(y_test,color='red')\n",
    "plt.subplot(222)\n",
    "plt.title('Prediction(x_test)')\n",
    "plt.plot(laso.predict(x_test),color='blue')\n",
    "plt.subplot(212)\n",
    "plt.plot(y_test,color='red')\n",
    "plt.plot(laso.predict(x_test),color='blue')"
   ]
  },
  {
   "cell_type": "markdown",
   "metadata": {},
   "source": [
    "<font color=#000000 size=5 face=\"微軟正黑體\">Train all train_data and predict test_feature</font>"
   ]
  },
  {
   "cell_type": "code",
   "execution_count": 15,
   "metadata": {},
   "outputs": [
    {
     "name": "stdout",
     "output_type": "stream",
     "text": [
      "Prediction(test_feature)\n",
      "['113835.4' '162521.1' '168137.2' ... '157676.5' '127904.3' '243292.4']\n"
     ]
    }
   ],
   "source": [
    "laso.fit(train_feature,priece)\n",
    "prediction=laso.predict(test_feature)\n",
    "prediction = np.array(['{:.1f}'.format(i) for i in prediction])\n",
    "print('Prediction(test_feature)')\n",
    "print(prediction)"
   ]
  },
  {
   "cell_type": "markdown",
   "metadata": {},
   "source": [
    "<font color=#000000 size=5 face=\"微軟正黑體\">Save result to csv file</font>"
   ]
  },
  {
   "cell_type": "code",
   "execution_count": 16,
   "metadata": {},
   "outputs": [
    {
     "name": "stdout",
     "output_type": "stream",
     "text": [
      "[1461 1462 1463 ... 2917 2918 2919]\n",
      "['113835.4' '162521.1' '168137.2' ... '157676.5' '127904.3' '243292.4']\n"
     ]
    }
   ],
   "source": [
    "submission=[]\n",
    "index=[]\n",
    "for i in range(len(prediction)):\n",
    "    index.append(i+1461)\n",
    "    submission.append(prediction[i])\n",
    "index=np.array(index)\n",
    "submission=np.array(submission)\n",
    "print(index)\n",
    "print(submission)\n",
    "np.savetxt('submission.csv', np.column_stack((index,submission)), fmt='%s', delimiter = ',',header=('Id,SalePrice'),comments='')"
   ]
  },
  {
   "attachments": {
    "kaggle_house_priece_score.PNG": {
     "image/png": "[encoded data removed]"
    }
   },
   "cell_type": "markdown",
   "metadata": {},
   "source": [
    "![kaggle_house_priece_score.PNG](attachment:kaggle_house_priece_score.PNG)"
   ]
  }
 ],
 "metadata": {
  "kernelspec": {
   "display_name": "Python 3",
   "language": "python",
   "name": "python3"
  },
  "language_info": {
   "codemirror_mode": {
    "name": "ipython",
    "version": 3
   },
   "file_extension": ".py",
   "mimetype": "text/x-python",
   "name": "python",
   "nbconvert_exporter": "python",
   "pygments_lexer": "ipython3",
   "version": "3.6.2"
  }
 },
 "nbformat": 4,
 "nbformat_minor": 2
}
