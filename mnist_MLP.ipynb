{
 "cells": [
  {
   "cell_type": "markdown",
   "metadata": {},
   "source": [
    "<font color=#000000 size=5 face=\"微軟正黑體\">Import useful library </font>"
   ]
  },
  {
   "cell_type": "code",
   "execution_count": 1,
   "metadata": {},
   "outputs": [],
   "source": [
    "from sklearn.model_selection import train_test_split\n",
    "from sklearn.utils import shuffle\n",
    "import numpy as np\n",
    "import os\n",
    "import argparse\n",
    "from tqdm import tqdm\n",
    "import matplotlib.pyplot as plt\n",
    "import tensorflow as tf"
   ]
  },
  {
   "cell_type": "markdown",
   "metadata": {},
   "source": [
    "<font color=#000000 size=5 face=\"微軟正黑體\">Setting parameters of training </font>"
   ]
  },
  {
   "cell_type": "code",
   "execution_count": 2,
   "metadata": {},
   "outputs": [],
   "source": [
    "parser = argparse.ArgumentParser()\n",
    "parser.add_argument('--batch_size', default = 32, type = int)\n",
    "parser.add_argument('--epochs', default = 100, type = int)\n",
    "parser.add_argument('--lr', default = 0.001, type = float)\n",
    "parser.add_argument('--train_ratio', default = 0.9, type = float)\n",
    "\n",
    "FLAGS = parser.parse_args([])"
   ]
  },
  {
   "cell_type": "markdown",
   "metadata": {},
   "source": [
    "<font color=#000000 size=5 face=\"微軟正黑體\">Load Mnist data from tensorflow </font>"
   ]
  },
  {
   "cell_type": "code",
   "execution_count": 3,
   "metadata": {},
   "outputs": [
    {
     "name": "stdout",
     "output_type": "stream",
     "text": [
      "Extracting MNIST-data/train-images-idx3-ubyte.gz\n",
      "Extracting MNIST-data/train-labels-idx1-ubyte.gz\n",
      "Extracting MNIST-data/t10k-images-idx3-ubyte.gz\n",
      "Extracting MNIST-data/t10k-labels-idx1-ubyte.gz\n"
     ]
    }
   ],
   "source": [
    "# Load training and eval data\n",
    "mnist = tf.contrib.learn.datasets.load_dataset(\"mnist\")\n",
    "train_data = mnist.train.images  # Returns np.array\n",
    "train_labels = np.asarray(mnist.train.labels, dtype=np.int32)\n",
    "validation_data = mnist.validation.images  # Returns np.array\n",
    "validation_labels = np.asarray(mnist.validation.labels, dtype=np.int32)\n",
    "eval_data = mnist.test.images  # Returns np.array\n",
    "eval_labels = np.asarray(mnist.test.labels, dtype=np.int32)\n",
    "\n",
    "train_data = train_data / train_data.max()\n",
    "validation_data = validation_data /validation_data.max()\n",
    "\n",
    "train_one_hot = np.zeros((len(train_labels), 10))\n",
    "train_one_hot[np.arange(len(train_labels)), train_labels] =1\n",
    "\n",
    "validation_one_hot = np.zeros((len(validation_labels), 10))\n",
    "validation_one_hot[np.arange(len(validation_labels)), validation_labels] =1\n",
    "\n",
    "eval_labels_one_hot = np.zeros((len(eval_labels), 10))\n",
    "eval_labels_one_hot[np.arange(len(eval_labels)), eval_labels] =1"
   ]
  },
  {
   "cell_type": "markdown",
   "metadata": {},
   "source": [
    "<font color=#000000 size=5 face=\"微軟正黑體\">Samples of dataset</font>"
   ]
  },
  {
   "cell_type": "code",
   "execution_count": 4,
   "metadata": {},
   "outputs": [
    {
     "name": "stdout",
     "output_type": "stream",
     "text": [
      "WARNING:tensorflow:From /opt/conda/lib/python3.6/site-packages/tensorflow/python/util/tf_should_use.py:107: initialize_all_variables (from tensorflow.python.ops.variables) is deprecated and will be removed after 2017-03-02.\n",
      "Instructions for updating:\n",
      "Use `tf.global_variables_initializer` instead.\n"
     ]
    },
    {
     "data": {
      "image/png": "[encoded data removed]",
      "text/plain": [
       "<matplotlib.figure.Figure at 0x7fbeec12e9e8>"
      ]
     },
     "metadata": {},
     "output_type": "display_data"
    }
   ],
   "source": [
    "with tf.Session() as sess:\n",
    "    sess.run(tf.initialize_all_variables()) #execute init_op\n",
    "    #print the random values that we sample\n",
    "    plt.subplot(231)\n",
    "    plt.gca().set_title('train_label:%d'%train_labels[0])\n",
    "    plt.imshow(sess.run(tf.reshape(train_data[0], [28,28])),cmap='gray')\n",
    "    plt.subplot(232)\n",
    "    plt.gca().set_title('validation_label:%d'%validation_labels[0])\n",
    "    plt.imshow(sess.run(tf.reshape(validation_data[0], [28,28])),cmap='gray')\n",
    "    plt.subplot(233)\n",
    "    plt.gca().set_title('eval_label:%d'%eval_labels[0])\n",
    "    plt.imshow(sess.run(tf.reshape(eval_data[0], [28,28])),cmap='gray')"
   ]
  },
  {
   "cell_type": "markdown",
   "metadata": {},
   "source": [
    "<font color=#000000 size=5 face=\"微軟正黑體\">Informations of dataset</font>"
   ]
  },
  {
   "cell_type": "code",
   "execution_count": 5,
   "metadata": {},
   "outputs": [
    {
     "name": "stdout",
     "output_type": "stream",
     "text": [
      "training set data dimension\n",
      "(55000, 784)\n",
      "(5000, 784)\n",
      "training set: 55000\n",
      "validation set: 5000\n",
      "testing set: 10000\n"
     ]
    }
   ],
   "source": [
    "print('training set data dimension')\n",
    "print(train_data.shape)\n",
    "print(validation_data.shape)\n",
    "print('training set: %i'%len(train_data))\n",
    "print('validation set: %i'%len(validation_data))\n",
    "print('testing set: %i'%len(eval_labels_one_hot))\n",
    "#資料training set, validation set 分割\n",
    "x_train, x_valid, y_train, y_valid = train_test_split(train_data, \n",
    "                                                      train_one_hot, \n",
    "                                                      test_size = 1.0 - FLAGS.train_ratio,\n",
    "                                                      stratify = train_one_hot.argmax(axis = 1))"
   ]
  },
  {
   "cell_type": "markdown",
   "metadata": {},
   "source": [
    "<font color=#000000 size=5 face=\"微軟正黑體\">Model building by tf.layers</font>"
   ]
  },
  {
   "cell_type": "code",
   "execution_count": 6,
   "metadata": {},
   "outputs": [],
   "source": [
    "tf.reset_default_graph()\n",
    "with tf.name_scope('input'):\n",
    "    x_input = tf.placeholder(shape = (None,x_train.shape[1]), \n",
    "                             name = 'x_input',\n",
    "                             dtype=tf.float32)\n",
    "    y_out = tf.placeholder(shape = (None, y_train.shape[1]), \n",
    "                           name = 'y_label',\n",
    "                           dtype=tf.float32)\n",
    "\n",
    "with tf.variable_scope('hidden_layer'):\n",
    "    x_h1 = tf.layers.dense(inputs= x_input, units= 25, activation=tf.nn.relu)\n",
    "    dropout1 = tf.layers.dropout(inputs=x_h1, rate=0.4)\n",
    "    x_h2 = tf.layers.dense(inputs= dropout1, units= 25, activation=tf.nn.relu)\n",
    "    dropout2 = tf.layers.dropout(inputs=x_h2, rate=0.4)\n",
    "    x_h3 = tf.layers.dense(inputs= dropout2, units= 25, activation=tf.nn.relu)\n",
    "    dropout3 = tf.layers.dropout(inputs=x_h3, rate=0.4)\n",
    "    x_h4 = tf.layers.dense(inputs= dropout3, units= 25, activation=tf.nn.relu)\n",
    "    dropout4 = tf.layers.dropout(inputs=x_h4, rate=0.4)\n",
    "    x_h5 = tf.layers.dense(inputs= dropout4, units= 25, activation=tf.nn.relu)\n",
    "    dropout5 = tf.layers.dropout(inputs=x_h5, rate=0.4)\n",
    "    x_h6 = tf.layers.dense(inputs= dropout5, units= 25, activation=tf.nn.relu)\n",
    "    dropout6 = tf.layers.dropout(inputs=x_h6, rate=0.4)\n",
    "    x_h7 = tf.layers.dense(inputs= dropout6, units= 25, activation=tf.nn.relu)\n",
    "    dropout7 = tf.layers.dropout(inputs=x_h7, rate=0.4)\n",
    "    x_h8 = tf.layers.dense(inputs= dropout7, units= 25, activation=tf.nn.relu)\n",
    "    dropout8 = tf.layers.dropout(inputs=x_h8, rate=0.4)\n",
    "    x_h9 = tf.layers.dense(inputs= dropout8, units= 25, activation=tf.nn.relu)\n",
    "    dropout9 = tf.layers.dropout(inputs=x_h9, rate=0.4)\n",
    "    x_h10 = tf.layers.dense(inputs= dropout9, units= 25, activation=tf.nn.relu)\n",
    "\n",
    "with tf.variable_scope('output_layer'):\n",
    "    output = tf.layers.dense(x_h10, units=10)\n",
    "\n",
    "with tf.name_scope('cross_entropy'):\n",
    "    loss = tf.reduce_mean(tf.nn.softmax_cross_entropy_with_logits(logits=output, labels=y_out))\n",
    "    \n",
    "with tf.name_scope('accuracy'):\n",
    "    correct_prediction = tf.equal(tf.argmax(tf.nn.softmax(output),1), tf.argmax(y_out,1))\n",
    "    compute_acc = tf.reduce_mean(tf.cast(correct_prediction, tf.float32))\n",
    "\n",
    "with tf.name_scope('train'):\n",
    "    train_step = tf.train.AdamOptimizer(learning_rate=FLAGS.lr).minimize(loss)"
   ]
  },
  {
   "cell_type": "markdown",
   "metadata": {},
   "source": [
    "<font color=#000000 size=5 face=\"微軟正黑體\">Start traing</font>"
   ]
  },
  {
   "cell_type": "code",
   "execution_count": 8,
   "metadata": {},
   "outputs": [
    {
     "name": "stderr",
     "output_type": "stream",
     "text": [
      "100%|██████████| 100/100 [08:03<00:00,  4.84s/it]"
     ]
    },
    {
     "name": "stdout",
     "output_type": "stream",
     "text": [
      "--- training done ---\n",
      "testing accuracy: 0.96\n"
     ]
    },
    {
     "name": "stderr",
     "output_type": "stream",
     "text": [
      "\n"
     ]
    }
   ],
   "source": [
    "train_loss_list, valid_loss_list = [], []\n",
    "train_acc_list, valid_acc_list = [], []\n",
    "#--------------------------------------sess--------------------------------------------\n",
    "with tf.Session() as sess:\n",
    "    # we have to initalize all variables (e.g. weights/biases) at the begin\n",
    "    sess.run([tf.global_variables_initializer()])\n",
    "    \n",
    "    for i in tqdm(range(FLAGS.epochs)):\n",
    "        # get batch \n",
    "        total_batch = int(np.floor(len(x_train) / FLAGS.batch_size)) # just drop out last few samples...\n",
    "        \n",
    "        train_loss_collector, train_acc_collector = [], []\n",
    "        for j in np.arange(total_batch):\n",
    "            batch_idx_start = j * FLAGS.batch_size\n",
    "            batch_idx_stop = (j+1) * FLAGS.batch_size\n",
    "\n",
    "            x_batch = x_train[batch_idx_start : batch_idx_stop]\n",
    "            y_batch = y_train[batch_idx_start : batch_idx_stop]\n",
    "            \n",
    "            this_loss, this_acc, _ = sess.run([loss, compute_acc,train_step],\n",
    "                                    feed_dict = {x_input: x_batch,\n",
    "                                                 y_out: y_batch})\n",
    "            train_loss_collector.append(this_loss)\n",
    "            train_acc_collector.append(this_acc)\n",
    "            \n",
    "        # do validation at the end of each epoch\n",
    "        valid_acc, valid_loss = sess.run([compute_acc, loss],\n",
    "                                         feed_dict = {x_input: x_valid,\n",
    "                                                      y_out : y_valid})\n",
    "        valid_loss_list.append(valid_loss)\n",
    "        valid_acc_list.append(valid_acc)\n",
    "        train_loss_list.append(np.mean(train_loss_collector))\n",
    "        train_acc_list.append(np.mean(train_acc_collector))\n",
    "\n",
    "        # at the end of each epoch, shuffle the data\n",
    "        x_train, y_train = shuffle(x_train, y_train)\n",
    "    # At the end of the training, do testing set\n",
    "    test_acc, test_loss = sess.run([compute_acc, loss],\n",
    "                                    feed_dict = {x_input: eval_data,\n",
    "                                                 y_out : eval_labels_one_hot})\n",
    "print('--- training done ---')\n",
    "print('testing accuracy: %.2f' % test_acc)"
   ]
  },
  {
   "cell_type": "markdown",
   "metadata": {},
   "source": [
    "<font color=#000000 size=5 face=\"微軟正黑體\">Loss and accuracy when training</font>"
   ]
  },
  {
   "cell_type": "code",
   "execution_count": 9,
   "metadata": {},
   "outputs": [
    {
     "data": {
      "image/png": "[encoded data removed]",
      "text/plain": [
       "<matplotlib.figure.Figure at 0x7fbe6ffabd68>"
      ]
     },
     "metadata": {},
     "output_type": "display_data"
    },
    {
     "data": {
      "image/png": "[encoded data removed]",
      "text/plain": [
       "<matplotlib.figure.Figure at 0x7fbe6ffd3ef0>"
      ]
     },
     "metadata": {},
     "output_type": "display_data"
    }
   ],
   "source": [
    "plt.plot(np.arange(len(train_loss_list)), train_loss_list, 'b', label = 'train')\n",
    "plt.plot(np.arange(len(valid_loss_list)), valid_loss_list, 'r', label = 'valid')\n",
    "plt.legend()\n",
    "plt.show()\n",
    "\n",
    "plt.plot(np.arange(len(train_acc_list)), train_acc_list, 'b', label = 'train')\n",
    "plt.plot(np.arange(len(valid_acc_list)), valid_acc_list, 'r', label = 'valid')\n",
    "plt.legend(loc = 4)\n",
    "plt.show()"
   ]
  }
 ],
 "metadata": {
  "kernelspec": {
   "display_name": "Python 3",
   "language": "python",
   "name": "python3"
  },
  "language_info": {
   "codemirror_mode": {
    "name": "ipython",
    "version": 3
   },
   "file_extension": ".py",
   "mimetype": "text/x-python",
   "name": "python",
   "nbconvert_exporter": "python",
   "pygments_lexer": "ipython3",
   "version": "3.6.3"
  }
 },
 "nbformat": 4,
 "nbformat_minor": 2
}
